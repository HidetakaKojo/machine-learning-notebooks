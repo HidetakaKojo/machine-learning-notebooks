{
 "cells": [
  {
   "cell_type": "markdown",
   "metadata": {},
   "source": [
    "## ハイパーパラメータチューニング\n",
    "\n",
    "ハイパーパラメータチューニングは学習を何度も繰り返す必要があり、非常に時間がかかる作業になります。  \n",
    "仮に1回の学習ループが3日かかるとしたら、パラメータを数回変えて試してみるだけで非常に時間がかかってしまいます。\n",
    "\n",
    "今回はその作業をお金の力で解決してしまう方法を学習します。\n",
    "\n",
    "## コードのモジュール化\n",
    "\n",
    "まず、コードを何度も実行するためにはjupyter上で処理するのはあまり向かないため、scriptに落とし込みます。  \n",
    "コードのコアの部分を移動したコードが`mfashion_keras/model.py`にあります。  \n",
    "そして、jobのkickerとなるコードを`mfashion_keras/task.py`に記載してあります。  \n",
    "試しに実行してみましょう"
   ]
  },
  {
   "cell_type": "code",
   "execution_count": 24,
   "metadata": {},
   "outputs": [
    {
     "name": "stdout",
     "output_type": "stream",
     "text": [
      "2020-07-18 18:04:47.609043: I tensorflow/core/profiler/lib/profiler_session.cc:159] Profiler session started.\n",
      "2020-07-18 18:04:47.610501: I tensorflow/stream_executor/platform/default/dso_loader.cc:44] Successfully opened dynamic library libcuda.so.1\n",
      "2020-07-18 18:04:48.262566: I tensorflow/core/profiler/internal/gpu/cupti_tracer.cc:1363] Profiler found 1 GPUs\n",
      "2020-07-18 18:04:48.262831: W tensorflow/stream_executor/platform/default/dso_loader.cc:55] Could not load dynamic library 'libcupti.so.10.1'; dlerror: libcupti.so.10.1: cannot open shared object file: No such file or directory; LD_LIBRARY_PATH: /usr/local/nvidia/lib:/usr/local/nvidia/lib64\n",
      "2020-07-18 18:04:48.262862: E tensorflow/core/profiler/internal/gpu/cupti_tracer.cc:1408] function cupti_interface_->Subscribe( &subscriber_, (CUpti_CallbackFunc)ApiCallback, this)failed with error CUPTI could not be loaded or symbol could not be found.\n",
      "2020-07-18 18:04:48.262885: E tensorflow/core/profiler/internal/gpu/cupti_tracer.cc:1447] function cupti_interface_->ActivityRegisterCallbacks( AllocCuptiActivityBuffer, FreeCuptiActivityBuffer)failed with error CUPTI could not be loaded or symbol could not be found.\n",
      "2020-07-18 18:04:48.262935: E tensorflow/core/profiler/internal/gpu/cupti_tracer.cc:1430] function cupti_interface_->EnableCallback( 0 , subscriber_, CUPTI_CB_DOMAIN_DRIVER_API, cbid)failed with error CUPTI could not be loaded or symbol could not be found.\n",
      "2020-07-18 18:04:48.286640: I tensorflow/stream_executor/cuda/cuda_gpu_executor.cc:981] successful NUMA node read from SysFS had negative value (-1), but there must be at least one NUMA node, so returning NUMA node zero\n",
      "2020-07-18 18:04:48.287316: I tensorflow/core/common_runtime/gpu/gpu_device.cc:1561] Found device 0 with properties: \n",
      "pciBusID: 0000:00:04.0 name: Tesla V100-SXM2-16GB computeCapability: 7.0\n",
      "coreClock: 1.53GHz coreCount: 80 deviceMemorySize: 15.75GiB deviceMemoryBandwidth: 836.37GiB/s\n",
      "2020-07-18 18:04:48.287733: I tensorflow/stream_executor/platform/default/dso_loader.cc:44] Successfully opened dynamic library libcudart.so.10.1\n",
      "2020-07-18 18:04:48.289503: I tensorflow/stream_executor/platform/default/dso_loader.cc:44] Successfully opened dynamic library libcublas.so.10\n",
      "2020-07-18 18:04:48.291635: I tensorflow/stream_executor/platform/default/dso_loader.cc:44] Successfully opened dynamic library libcufft.so.10\n",
      "2020-07-18 18:04:48.292035: I tensorflow/stream_executor/platform/default/dso_loader.cc:44] Successfully opened dynamic library libcurand.so.10\n",
      "2020-07-18 18:04:48.294219: I tensorflow/stream_executor/platform/default/dso_loader.cc:44] Successfully opened dynamic library libcusolver.so.10\n",
      "2020-07-18 18:04:48.295405: I tensorflow/stream_executor/platform/default/dso_loader.cc:44] Successfully opened dynamic library libcusparse.so.10\n",
      "2020-07-18 18:04:48.299795: I tensorflow/stream_executor/platform/default/dso_loader.cc:44] Successfully opened dynamic library libcudnn.so.7\n",
      "2020-07-18 18:04:48.299951: I tensorflow/stream_executor/cuda/cuda_gpu_executor.cc:981] successful NUMA node read from SysFS had negative value (-1), but there must be at least one NUMA node, so returning NUMA node zero\n",
      "2020-07-18 18:04:48.300628: I tensorflow/stream_executor/cuda/cuda_gpu_executor.cc:981] successful NUMA node read from SysFS had negative value (-1), but there must be at least one NUMA node, so returning NUMA node zero\n",
      "2020-07-18 18:04:48.301221: I tensorflow/core/common_runtime/gpu/gpu_device.cc:1703] Adding visible gpu devices: 0\n",
      "2020-07-18 18:04:48.301462: I tensorflow/core/platform/cpu_feature_guard.cc:143] Your CPU supports instructions that this TensorFlow binary was not compiled to use: AVX2 FMA\n",
      "2020-07-18 18:04:48.309949: I tensorflow/core/platform/profile_utils/cpu_utils.cc:102] CPU Frequency: 2200000000 Hz\n",
      "2020-07-18 18:04:48.310603: I tensorflow/compiler/xla/service/service.cc:168] XLA service 0x4e28430 initialized for platform Host (this does not guarantee that XLA will be used). Devices:\n",
      "2020-07-18 18:04:48.310635: I tensorflow/compiler/xla/service/service.cc:176]   StreamExecutor device (0): Host, Default Version\n",
      "2020-07-18 18:04:48.404466: I tensorflow/stream_executor/cuda/cuda_gpu_executor.cc:981] successful NUMA node read from SysFS had negative value (-1), but there must be at least one NUMA node, so returning NUMA node zero\n",
      "2020-07-18 18:04:48.405280: I tensorflow/compiler/xla/service/service.cc:168] XLA service 0x4eb2820 initialized for platform CUDA (this does not guarantee that XLA will be used). Devices:\n",
      "2020-07-18 18:04:48.405320: I tensorflow/compiler/xla/service/service.cc:176]   StreamExecutor device (0): Tesla V100-SXM2-16GB, Compute Capability 7.0\n",
      "2020-07-18 18:04:48.405584: I tensorflow/stream_executor/cuda/cuda_gpu_executor.cc:981] successful NUMA node read from SysFS had negative value (-1), but there must be at least one NUMA node, so returning NUMA node zero\n",
      "2020-07-18 18:04:48.406224: I tensorflow/core/common_runtime/gpu/gpu_device.cc:1561] Found device 0 with properties: \n",
      "pciBusID: 0000:00:04.0 name: Tesla V100-SXM2-16GB computeCapability: 7.0\n",
      "coreClock: 1.53GHz coreCount: 80 deviceMemorySize: 15.75GiB deviceMemoryBandwidth: 836.37GiB/s\n",
      "2020-07-18 18:04:48.406293: I tensorflow/stream_executor/platform/default/dso_loader.cc:44] Successfully opened dynamic library libcudart.so.10.1\n",
      "2020-07-18 18:04:48.406318: I tensorflow/stream_executor/platform/default/dso_loader.cc:44] Successfully opened dynamic library libcublas.so.10\n",
      "2020-07-18 18:04:48.406342: I tensorflow/stream_executor/platform/default/dso_loader.cc:44] Successfully opened dynamic library libcufft.so.10\n",
      "2020-07-18 18:04:48.406366: I tensorflow/stream_executor/platform/default/dso_loader.cc:44] Successfully opened dynamic library libcurand.so.10\n",
      "2020-07-18 18:04:48.406389: I tensorflow/stream_executor/platform/default/dso_loader.cc:44] Successfully opened dynamic library libcusolver.so.10\n",
      "2020-07-18 18:04:48.406410: I tensorflow/stream_executor/platform/default/dso_loader.cc:44] Successfully opened dynamic library libcusparse.so.10\n",
      "2020-07-18 18:04:48.406443: I tensorflow/stream_executor/platform/default/dso_loader.cc:44] Successfully opened dynamic library libcudnn.so.7\n",
      "2020-07-18 18:04:48.406519: I tensorflow/stream_executor/cuda/cuda_gpu_executor.cc:981] successful NUMA node read from SysFS had negative value (-1), but there must be at least one NUMA node, so returning NUMA node zero\n",
      "2020-07-18 18:04:48.407122: I tensorflow/stream_executor/cuda/cuda_gpu_executor.cc:981] successful NUMA node read from SysFS had negative value (-1), but there must be at least one NUMA node, so returning NUMA node zero\n",
      "2020-07-18 18:04:48.407696: I tensorflow/core/common_runtime/gpu/gpu_device.cc:1703] Adding visible gpu devices: 0\n",
      "2020-07-18 18:04:48.407845: I tensorflow/stream_executor/platform/default/dso_loader.cc:44] Successfully opened dynamic library libcudart.so.10.1\n",
      "2020-07-18 18:04:48.409051: I tensorflow/core/common_runtime/gpu/gpu_device.cc:1102] Device interconnect StreamExecutor with strength 1 edge matrix:\n",
      "2020-07-18 18:04:48.409081: I tensorflow/core/common_runtime/gpu/gpu_device.cc:1108]      0 \n",
      "2020-07-18 18:04:48.409095: I tensorflow/core/common_runtime/gpu/gpu_device.cc:1121] 0:   N \n",
      "2020-07-18 18:04:48.409239: I tensorflow/stream_executor/cuda/cuda_gpu_executor.cc:981] successful NUMA node read from SysFS had negative value (-1), but there must be at least one NUMA node, so returning NUMA node zero\n",
      "2020-07-18 18:04:48.409940: I tensorflow/stream_executor/cuda/cuda_gpu_executor.cc:981] successful NUMA node read from SysFS had negative value (-1), but there must be at least one NUMA node, so returning NUMA node zero\n",
      "2020-07-18 18:04:48.410577: I tensorflow/core/common_runtime/gpu/gpu_device.cc:1247] Created TensorFlow device (/job:localhost/replica:0/task:0/device:GPU:0 with 14865 MB memory) -> physical GPU (device: 0, name: Tesla V100-SXM2-16GB, pci bus id: 0000:00:04.0, compute capability: 7.0)\n",
      "Epoch 1/10000\n",
      "2020-07-18 18:04:51.508386: I tensorflow/stream_executor/platform/default/dso_loader.cc:44] Successfully opened dynamic library libcublas.so.10\n",
      "2020-07-18 18:04:51.850663: I tensorflow/stream_executor/platform/default/dso_loader.cc:44] Successfully opened dynamic library libcudnn.so.7\n",
      "2020-07-18 18:04:53.821329: I tensorflow/core/profiler/lib/profiler_session.cc:159] Profiler session started.\n",
      "2020-07-18 18:04:53.821390: E tensorflow/core/profiler/internal/gpu/cupti_tracer.cc:1408] function cupti_interface_->Subscribe( &subscriber_, (CUpti_CallbackFunc)ApiCallback, this)failed with error CUPTI could not be loaded or symbol could not be found.\n",
      "2020-07-18 18:04:53.821408: E tensorflow/core/profiler/internal/gpu/cupti_tracer.cc:1447] function cupti_interface_->ActivityRegisterCallbacks( AllocCuptiActivityBuffer, FreeCuptiActivityBuffer)failed with error CUPTI could not be loaded or symbol could not be found.\n",
      "  1/844 [..............................] - ETA: 0s - loss: 2.8964 - categorical_accuracy: 0.1250 - categorical_crossentropy: 2.89642020-07-18 18:04:53.827615: E tensorflow/core/profiler/internal/gpu/cupti_tracer.cc:1430] function cupti_interface_->EnableCallback( 0 , subscriber_, CUPTI_CB_DOMAIN_DRIVER_API, cbid)failed with error CUPTI could not be loaded or symbol could not be found.\n",
      "2020-07-18 18:04:53.827788: I tensorflow/core/profiler/internal/gpu/device_tracer.cc:216]  GpuTracer has collected 0 callback api events and 0 activity events.\n",
      "2020-07-18 18:04:53.828718: I tensorflow/core/profiler/rpc/client/save_profile.cc:168] Creating directory: ./output/logs/train/plugins/profile/2020_07_18_18_04_53\n",
      "2020-07-18 18:04:53.829227: I tensorflow/core/profiler/rpc/client/save_profile.cc:174] Dumped gzipped tool data for trace.json.gz to ./output/logs/train/plugins/profile/2020_07_18_18_04_53/88e43466a7a3.trace.json.gz\n",
      "2020-07-18 18:04:53.829610: I tensorflow/core/profiler/utils/event_span.cc:288] Generation of step-events took 0.003 ms\n",
      "\n",
      "2020-07-18 18:04:53.830350: I tensorflow/python/profiler/internal/profiler_wrapper.cc:87] Creating directory: ./output/logs/train/plugins/profile/2020_07_18_18_04_53Dumped tool data for overview_page.pb to ./output/logs/train/plugins/profile/2020_07_18_18_04_53/88e43466a7a3.overview_page.pb\n",
      "Dumped tool data for input_pipeline.pb to ./output/logs/train/plugins/profile/2020_07_18_18_04_53/88e43466a7a3.input_pipeline.pb\n",
      "Dumped tool data for tensorflow_stats.pb to ./output/logs/train/plugins/profile/2020_07_18_18_04_53/88e43466a7a3.tensorflow_stats.pb\n",
      "Dumped tool data for kernel_stats.pb to ./output/logs/train/plugins/profile/2020_07_18_18_04_53/88e43466a7a3.kernel_stats.pb\n",
      "\n",
      "844/844 [==============================] - 4s 5ms/step - loss: 0.5915 - categorical_accuracy: 0.7818 - categorical_crossentropy: 0.5915 - val_loss: 0.4124 - val_categorical_accuracy: 0.8525 - val_categorical_crossentropy: 0.4124\n",
      "Epoch 2/10000\n",
      "844/844 [==============================] - 4s 4ms/step - loss: 0.4369 - categorical_accuracy: 0.8405 - categorical_crossentropy: 0.4369 - val_loss: 0.3334 - val_categorical_accuracy: 0.8697 - val_categorical_crossentropy: 0.3334\n",
      "Epoch 3/10000\n",
      "844/844 [==============================] - 4s 4ms/step - loss: 0.3957 - categorical_accuracy: 0.8551 - categorical_crossentropy: 0.3957 - val_loss: 0.3252 - val_categorical_accuracy: 0.8817 - val_categorical_crossentropy: 0.3252\n",
      "Epoch 4/10000\n",
      "844/844 [==============================] - 4s 4ms/step - loss: 0.3714 - categorical_accuracy: 0.8625 - categorical_crossentropy: 0.3714 - val_loss: 0.2975 - val_categorical_accuracy: 0.8880 - val_categorical_crossentropy: 0.2975\n",
      "Epoch 5/10000\n",
      "844/844 [==============================] - 4s 4ms/step - loss: 0.3547 - categorical_accuracy: 0.8711 - categorical_crossentropy: 0.3547 - val_loss: 0.2980 - val_categorical_accuracy: 0.8902 - val_categorical_crossentropy: 0.2980\n",
      "Epoch 6/10000\n",
      "844/844 [==============================] - 4s 4ms/step - loss: 0.3440 - categorical_accuracy: 0.8748 - categorical_crossentropy: 0.3440 - val_loss: 0.2955 - val_categorical_accuracy: 0.8882 - val_categorical_crossentropy: 0.2955\n",
      "Epoch 7/10000\n",
      "844/844 [==============================] - 4s 4ms/step - loss: 0.3319 - categorical_accuracy: 0.8781 - categorical_crossentropy: 0.3319 - val_loss: 0.2774 - val_categorical_accuracy: 0.9008 - val_categorical_crossentropy: 0.2774\n",
      "Epoch 8/10000\n",
      "844/844 [==============================] - 4s 5ms/step - loss: 0.3265 - categorical_accuracy: 0.8794 - categorical_crossentropy: 0.3265 - val_loss: 0.2808 - val_categorical_accuracy: 0.8947 - val_categorical_crossentropy: 0.2808\n",
      "Epoch 9/10000\n",
      "844/844 [==============================] - 4s 4ms/step - loss: 0.3171 - categorical_accuracy: 0.8836 - categorical_crossentropy: 0.3171 - val_loss: 0.2666 - val_categorical_accuracy: 0.9017 - val_categorical_crossentropy: 0.2666\n",
      "Epoch 10/10000\n",
      "844/844 [==============================] - 4s 4ms/step - loss: 0.3081 - categorical_accuracy: 0.8865 - categorical_crossentropy: 0.3081 - val_loss: 0.2731 - val_categorical_accuracy: 0.8977 - val_categorical_crossentropy: 0.2731\n",
      "Epoch 11/10000\n",
      "844/844 [==============================] - 4s 4ms/step - loss: 0.3018 - categorical_accuracy: 0.8886 - categorical_crossentropy: 0.3018 - val_loss: 0.2795 - val_categorical_accuracy: 0.8922 - val_categorical_crossentropy: 0.2795\n",
      "2020-07-18 18:05:35.114656: W tensorflow/python/util/util.cc:329] Sets are not currently considered sequences, but this may change in the future, so consider avoiding using them.\n",
      "WARNING:tensorflow:From /usr/local/lib/python3.6/dist-packages/tensorflow/python/ops/resource_variable_ops.py:1817: calling BaseResourceVariable.__init__ (from tensorflow.python.ops.resource_variable_ops) with constraint is deprecated and will be removed in a future version.\n",
      "Instructions for updating:\n",
      "If using Keras pass *_constraint arguments to layers.\n"
     ]
    }
   ],
   "source": [
    "!python3 -m mfashion_keras.task --output_dir=./output --model=cnn --batch_size=64 --batch_norm"
   ]
  },
  {
   "cell_type": "markdown",
   "metadata": {},
   "source": [
    "## gcloud ai-platform(ml-engine)での実行\n",
    "\n",
    "上記のコマンドをgcloudのai-platform経由で実行しましょう。  "
   ]
  },
  {
   "cell_type": "code",
   "execution_count": 4,
   "metadata": {},
   "outputs": [
    {
     "name": "stdout",
     "output_type": "stream",
     "text": [
      "gs://mixi-newbie-2020/kojo/mfashion/trained_cnn\n",
      "mfashion_cnn_kojo_20200718_162326\n",
      "jobId: mfashion_cnn_kojo_20200718_162326\n",
      "state: QUEUED\n"
     ]
    },
    {
     "name": "stderr",
     "output_type": "stream",
     "text": [
      "Job [mfashion_cnn_kojo_20200718_162326] submitted successfully.\n",
      "Your job is still active. You may view the status of your job with the command\n",
      "\n",
      "  $ gcloud ml-engine jobs describe mfashion_cnn_kojo_20200718_162326\n",
      "\n",
      "or continue streaming the logs with the command\n",
      "\n",
      "  $ gcloud ml-engine jobs stream-logs mfashion_cnn_kojo_20200718_162326\n"
     ]
    }
   ],
   "source": [
    "%%bash\n",
    "\n",
    "## 書き換える\n",
    "USER=kojo\n",
    "\n",
    "## 書き換えない\n",
    "BUCKET=mixi-newbie-2020\n",
    "REGION=asia-northeast1\n",
    "TFVERSION=2.1\n",
    "PYVERSION=3.7\n",
    "\n",
    "## 必要に応じて書き換える\n",
    "MODEL_TYPE=cnn\n",
    "LEARNING_RATE=0.01\n",
    "BATCH_SIZE=64\n",
    "TRAIN_STEPS=1000\n",
    "\n",
    "OUTPUT_DIR=gs://${BUCKET}/${USER}/mfashion/trained_${MODEL_TYPE}\n",
    "DATE=`date +%Y%m%d_%H%M%S`\n",
    "JOB_ID=mfashion_${MODEL_TYPE}_${USER}_${DATE}\n",
    "echo ${OUTPUT_DIR}\n",
    "echo ${JOB_ID}\n",
    "\n",
    "gcloud ml-engine jobs submit training ${JOB_ID} \\\n",
    "  --region=${REGION} \\\n",
    "  --module-name=mfashion_keras.task \\\n",
    "  --package-path=./mfashion_keras \\\n",
    "  --job-dir=${OUTPUT_DIR} \\\n",
    "  --staging-bucket=gs://${BUCKET} \\\n",
    "  --scale-tier=BASIC_GPU \\\n",
    "  --runtime-version=${TFVERSION} \\\n",
    "  --python-version=${PYVERSION} \\\n",
    "  -- \\\n",
    "  --output_dir=${OUTPUT_DIR} \\\n",
    "  --train_steps=${TRAIN_STEPS} \\\n",
    "  --model=${MODEL_TYPE} \\\n",
    "  --learning_rate=${LEARNING_RATE} \\\n",
    "  --batch_size=${BATCH_SIZE}"
   ]
  },
  {
   "cell_type": "markdown",
   "metadata": {},
   "source": [
    "これでjobを作成し、自分のマシン以外のリソースを使って実行できました。  \n",
    "上記のコマンドはjupyter上で実行する必要もないため、もちろんコマンドラインから実行しても同様に実行が可能です。\n",
    "\n",
    "これで自分のマシンの計算リソースの制約にとらわれることなくjobが実行可能になりました。  \n",
    "パラメータを変えながら大量にjobを並列実行すれば最適なパラメータチューニングをすることが可能になります。"
   ]
  },
  {
   "cell_type": "markdown",
   "metadata": {},
   "source": [
    "## HyperParameterSpecを使ったパラメータチューニング\n",
    "　\n",
    "各クラウドで似たような仕組みはありますが、今回はgcloudのパラメータチューニングを使用してチューニングします。\n",
    "\n",
    "最適値を探すのに、`Manual`, `Grid Search`, `Random Search`, `Baysean Search`の4つの探索方法が用意されています。  \n",
    "[詳しくはここ](https://cloud.google.com/ai-platform/training/docs/reference/rest/v1/projects.jobs#HyperparameterSpec)\n",
    "\n",
    "以下はGrid Searchを用いた例です。 \n",
    "今回はlearning_rateを最初値0.001から最大値0.3までの間を探索してみます"
   ]
  },
  {
   "cell_type": "code",
   "execution_count": 25,
   "metadata": {},
   "outputs": [
    {
     "name": "stdout",
     "output_type": "stream",
     "text": [
      "Overwriting hyperparam.yaml\n"
     ]
    }
   ],
   "source": [
    "%%writefile hyperparam.yaml\n",
    "trainingInput:\n",
    "  scaleTier: BASIC\n",
    "  hyperparameters:\n",
    "    goal: MINIMIZE\n",
    "    maxTrials: 6\n",
    "    maxParallelTrials: 6\n",
    "    hyperparameterMetricTag: ccentropy\n",
    "    enableTrialEarlyStopping: True\n",
    "    algorithm: GRID_SEARCH\n",
    "    params:\n",
    "    - parameterName: learning_rate\n",
    "      type: DISCRETE\n",
    "      discreteValues: [0.001, 0.005, 0.01, 0.05, 0.1, 0.3]"
   ]
  },
  {
   "cell_type": "code",
   "execution_count": 26,
   "metadata": {},
   "outputs": [
    {
     "name": "stdout",
     "output_type": "stream",
     "text": [
      "gs://mixi-newbie-2020/kojo/mfashion/trained_cnn\n",
      "mfashion_cnn_kojo_20200718_180555\n",
      "jobId: mfashion_cnn_kojo_20200718_180555\n",
      "state: QUEUED\n"
     ]
    },
    {
     "name": "stderr",
     "output_type": "stream",
     "text": [
      "Job [mfashion_cnn_kojo_20200718_180555] submitted successfully.\n",
      "Your job is still active. You may view the status of your job with the command\n",
      "\n",
      "  $ gcloud ml-engine jobs describe mfashion_cnn_kojo_20200718_180555\n",
      "\n",
      "or continue streaming the logs with the command\n",
      "\n",
      "  $ gcloud ml-engine jobs stream-logs mfashion_cnn_kojo_20200718_180555\n"
     ]
    }
   ],
   "source": [
    "%%bash\n",
    "\n",
    "## 書き換える\n",
    "USER=kojo\n",
    "\n",
    "## 書き換えない\n",
    "BUCKET=mixi-newbie-2020\n",
    "REGION=asia-northeast1\n",
    "TFVERSION=2.1\n",
    "PYVERSION=3.7\n",
    "\n",
    "## 必要に応じて書き換える\n",
    "MODEL_TYPE=cnn\n",
    "LEARNING_RATE=0.01\n",
    "BATCH_SIZE=64\n",
    "TRAIN_STEPS=1000\n",
    "\n",
    "OUTPUT_DIR=gs://${BUCKET}/${USER}/mfashion/trained_${MODEL_TYPE}\n",
    "DATE=`date +%Y%m%d_%H%M%S`\n",
    "JOB_ID=mfashion_${MODEL_TYPE}_${USER}_${DATE}\n",
    "echo ${OUTPUT_DIR}\n",
    "echo ${JOB_ID}\n",
    "\n",
    "gcloud ml-engine jobs submit training ${JOB_ID} \\\n",
    "  --region=${REGION} \\\n",
    "  --module-name=mfashion_keras.task \\\n",
    "  --package-path=./mfashion_keras \\\n",
    "  --job-dir=${OUTPUT_DIR} \\\n",
    "  --config=hyperparam.yaml \\\n",
    "  --staging-bucket=gs://${BUCKET} \\\n",
    "  --runtime-version=${TFVERSION} \\\n",
    "  --python-version=${PYVERSION} \\\n",
    "  -- \\\n",
    "  --output_dir=${OUTPUT_DIR} \\\n",
    "  --train_steps=${TRAIN_STEPS} \\\n",
    "  --model=${MODEL_TYPE} \\\n",
    "  --batch_size=${BATCH_SIZE}"
   ]
  },
  {
   "cell_type": "markdown",
   "metadata": {},
   "source": [
    "今回は`ccentropy`という指標を使いましたが、これを変更するにはどうすればいいのでしょうか？確認してみてください。"
   ]
  },
  {
   "cell_type": "code",
   "execution_count": null,
   "metadata": {},
   "outputs": [],
   "source": []
  }
 ],
 "metadata": {
  "kernelspec": {
   "display_name": "Python 3",
   "language": "python",
   "name": "python3"
  },
  "language_info": {
   "codemirror_mode": {
    "name": "ipython",
    "version": 3
   },
   "file_extension": ".py",
   "mimetype": "text/x-python",
   "name": "python",
   "nbconvert_exporter": "python",
   "pygments_lexer": "ipython3",
   "version": "3.6.11"
  }
 },
 "nbformat": 4,
 "nbformat_minor": 4
}
