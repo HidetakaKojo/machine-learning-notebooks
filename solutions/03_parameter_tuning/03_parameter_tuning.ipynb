{
 "cells": [
  {
   "cell_type": "markdown",
   "metadata": {},
   "source": [
    "## ハイパーパラメータチューニング\n",
    "\n",
    "ハイパーパラメータチューニングは学習を何度も繰り返す必要があり、非常に時間がかかる作業になります。  \n",
    "仮に1回の学習ループが3日かかるとしたら、パラメータを数回変えて試してみるだけで非常に時間がかかってしまいます。\n",
    "\n",
    "今回はその作業をお金の力で解決してしまう方法を学習します。\n",
    "\n",
    "## コードのモジュール化\n",
    "\n",
    "まず、コードを何度も実行するためにはjupyter上で処理するのはあまり向かないため、scriptに落とし込みます。  \n",
    "コードのコアの部分を移動したコードが`mfashion_keras/model.py`にあります。  \n",
    "そして、jobのkickerとなるコードを`mfashion_keras/task.py`に記載してあります。  \n",
    "試しに実行してみましょう"
   ]
  },
  {
   "cell_type": "code",
   "execution_count": 1,
   "metadata": {},
   "outputs": [
    {
     "name": "stdout",
     "output_type": "stream",
     "text": [
      "2020-07-20 12:08:14.599555: I tensorflow/stream_executor/platform/default/dso_loader.cc:44] Successfully opened dynamic library libcudart.so.10.1\n",
      "2020-07-20 12:08:16.761314: I tensorflow/core/profiler/lib/profiler_session.cc:159] Profiler session started.\n",
      "2020-07-20 12:08:16.762727: I tensorflow/stream_executor/platform/default/dso_loader.cc:44] Successfully opened dynamic library libcuda.so.1\n",
      "2020-07-20 12:08:17.405146: I tensorflow/core/profiler/internal/gpu/cupti_tracer.cc:1363] Profiler found 1 GPUs\n",
      "2020-07-20 12:08:17.406064: I tensorflow/stream_executor/platform/default/dso_loader.cc:44] Successfully opened dynamic library libcupti.so.10.1\n",
      "2020-07-20 12:08:17.407157: I tensorflow/core/profiler/internal/gpu/cupti_tracer.cc:1479] CUPTI activity buffer flushed\n",
      "2020-07-20 12:08:17.496311: I tensorflow/stream_executor/cuda/cuda_gpu_executor.cc:981] successful NUMA node read from SysFS had negative value (-1), but there must be at least one NUMA node, so returning NUMA node zero\n",
      "2020-07-20 12:08:17.497019: I tensorflow/core/common_runtime/gpu/gpu_device.cc:1561] Found device 0 with properties: \n",
      "pciBusID: 0000:00:04.0 name: Tesla T4 computeCapability: 7.5\n",
      "coreClock: 1.59GHz coreCount: 40 deviceMemorySize: 14.73GiB deviceMemoryBandwidth: 298.08GiB/s\n",
      "2020-07-20 12:08:17.497060: I tensorflow/stream_executor/platform/default/dso_loader.cc:44] Successfully opened dynamic library libcudart.so.10.1\n",
      "2020-07-20 12:08:17.498773: I tensorflow/stream_executor/platform/default/dso_loader.cc:44] Successfully opened dynamic library libcublas.so.10\n",
      "2020-07-20 12:08:17.500707: I tensorflow/stream_executor/platform/default/dso_loader.cc:44] Successfully opened dynamic library libcufft.so.10\n",
      "2020-07-20 12:08:17.501070: I tensorflow/stream_executor/platform/default/dso_loader.cc:44] Successfully opened dynamic library libcurand.so.10\n",
      "2020-07-20 12:08:17.503008: I tensorflow/stream_executor/platform/default/dso_loader.cc:44] Successfully opened dynamic library libcusolver.so.10\n",
      "2020-07-20 12:08:17.504102: I tensorflow/stream_executor/platform/default/dso_loader.cc:44] Successfully opened dynamic library libcusparse.so.10\n",
      "2020-07-20 12:08:17.508423: I tensorflow/stream_executor/platform/default/dso_loader.cc:44] Successfully opened dynamic library libcudnn.so.7\n",
      "2020-07-20 12:08:17.508574: I tensorflow/stream_executor/cuda/cuda_gpu_executor.cc:981] successful NUMA node read from SysFS had negative value (-1), but there must be at least one NUMA node, so returning NUMA node zero\n",
      "2020-07-20 12:08:17.509325: I tensorflow/stream_executor/cuda/cuda_gpu_executor.cc:981] successful NUMA node read from SysFS had negative value (-1), but there must be at least one NUMA node, so returning NUMA node zero\n",
      "2020-07-20 12:08:17.509960: I tensorflow/core/common_runtime/gpu/gpu_device.cc:1703] Adding visible gpu devices: 0\n",
      "2020-07-20 12:08:17.518438: I tensorflow/core/platform/profile_utils/cpu_utils.cc:102] CPU Frequency: 2200000000 Hz\n",
      "2020-07-20 12:08:17.518815: I tensorflow/compiler/xla/service/service.cc:168] XLA service 0x55e0d60dd970 initialized for platform Host (this does not guarantee that XLA will be used). Devices:\n",
      "2020-07-20 12:08:17.518861: I tensorflow/compiler/xla/service/service.cc:176]   StreamExecutor device (0): Host, Default Version\n",
      "2020-07-20 12:08:17.707923: I tensorflow/stream_executor/cuda/cuda_gpu_executor.cc:981] successful NUMA node read from SysFS had negative value (-1), but there must be at least one NUMA node, so returning NUMA node zero\n",
      "2020-07-20 12:08:17.708747: I tensorflow/compiler/xla/service/service.cc:168] XLA service 0x55e0d60e0520 initialized for platform CUDA (this does not guarantee that XLA will be used). Devices:\n",
      "2020-07-20 12:08:17.708787: I tensorflow/compiler/xla/service/service.cc:176]   StreamExecutor device (0): Tesla T4, Compute Capability 7.5\n",
      "2020-07-20 12:08:17.709048: I tensorflow/stream_executor/cuda/cuda_gpu_executor.cc:981] successful NUMA node read from SysFS had negative value (-1), but there must be at least one NUMA node, so returning NUMA node zero\n",
      "2020-07-20 12:08:17.709687: I tensorflow/core/common_runtime/gpu/gpu_device.cc:1561] Found device 0 with properties: \n",
      "pciBusID: 0000:00:04.0 name: Tesla T4 computeCapability: 7.5\n",
      "coreClock: 1.59GHz coreCount: 40 deviceMemorySize: 14.73GiB deviceMemoryBandwidth: 298.08GiB/s\n",
      "2020-07-20 12:08:17.709736: I tensorflow/stream_executor/platform/default/dso_loader.cc:44] Successfully opened dynamic library libcudart.so.10.1\n",
      "2020-07-20 12:08:17.709787: I tensorflow/stream_executor/platform/default/dso_loader.cc:44] Successfully opened dynamic library libcublas.so.10\n",
      "2020-07-20 12:08:17.709813: I tensorflow/stream_executor/platform/default/dso_loader.cc:44] Successfully opened dynamic library libcufft.so.10\n",
      "2020-07-20 12:08:17.709843: I tensorflow/stream_executor/platform/default/dso_loader.cc:44] Successfully opened dynamic library libcurand.so.10\n",
      "2020-07-20 12:08:17.709885: I tensorflow/stream_executor/platform/default/dso_loader.cc:44] Successfully opened dynamic library libcusolver.so.10\n",
      "2020-07-20 12:08:17.709908: I tensorflow/stream_executor/platform/default/dso_loader.cc:44] Successfully opened dynamic library libcusparse.so.10\n",
      "2020-07-20 12:08:17.709931: I tensorflow/stream_executor/platform/default/dso_loader.cc:44] Successfully opened dynamic library libcudnn.so.7\n",
      "2020-07-20 12:08:17.710036: I tensorflow/stream_executor/cuda/cuda_gpu_executor.cc:981] successful NUMA node read from SysFS had negative value (-1), but there must be at least one NUMA node, so returning NUMA node zero\n",
      "2020-07-20 12:08:17.710762: I tensorflow/stream_executor/cuda/cuda_gpu_executor.cc:981] successful NUMA node read from SysFS had negative value (-1), but there must be at least one NUMA node, so returning NUMA node zero\n",
      "2020-07-20 12:08:17.711388: I tensorflow/core/common_runtime/gpu/gpu_device.cc:1703] Adding visible gpu devices: 0\n",
      "2020-07-20 12:08:17.711484: I tensorflow/stream_executor/platform/default/dso_loader.cc:44] Successfully opened dynamic library libcudart.so.10.1\n",
      "2020-07-20 12:08:18.266388: I tensorflow/core/common_runtime/gpu/gpu_device.cc:1102] Device interconnect StreamExecutor with strength 1 edge matrix:\n",
      "2020-07-20 12:08:18.266442: I tensorflow/core/common_runtime/gpu/gpu_device.cc:1108]      0 \n",
      "2020-07-20 12:08:18.266455: I tensorflow/core/common_runtime/gpu/gpu_device.cc:1121] 0:   N \n",
      "2020-07-20 12:08:18.266704: I tensorflow/stream_executor/cuda/cuda_gpu_executor.cc:981] successful NUMA node read from SysFS had negative value (-1), but there must be at least one NUMA node, so returning NUMA node zero\n",
      "2020-07-20 12:08:18.267555: I tensorflow/stream_executor/cuda/cuda_gpu_executor.cc:981] successful NUMA node read from SysFS had negative value (-1), but there must be at least one NUMA node, so returning NUMA node zero\n",
      "2020-07-20 12:08:18.268212: I tensorflow/core/common_runtime/gpu/gpu_device.cc:1247] Created TensorFlow device (/job:localhost/replica:0/task:0/device:GPU:0 with 13970 MB memory) -> physical GPU (device: 0, name: Tesla T4, pci bus id: 0000:00:04.0, compute capability: 7.5)\n",
      "Epoch 1/10000\n",
      "2020-07-20 12:08:20.422792: I tensorflow/stream_executor/platform/default/dso_loader.cc:44] Successfully opened dynamic library libcublas.so.10\n",
      "2020-07-20 12:08:20.791813: I tensorflow/stream_executor/platform/default/dso_loader.cc:44] Successfully opened dynamic library libcudnn.so.7\n",
      "2020-07-20 12:08:22.729550: I tensorflow/core/profiler/lib/profiler_session.cc:159] Profiler session started.\n",
      "2020-07-20 12:08:22.730293: E tensorflow/core/profiler/internal/gpu/cupti_tracer.cc:1408] function cupti_interface_->Subscribe( &subscriber_, (CUpti_CallbackFunc)ApiCallback, this)failed with error CUPTI_ERROR_INSUFFICIENT_PRIVILEGES\n",
      "2020-07-20 12:08:22.730343: E tensorflow/core/profiler/internal/gpu/cupti_tracer.cc:1447] function cupti_interface_->ActivityRegisterCallbacks( AllocCuptiActivityBuffer, FreeCuptiActivityBuffer)failed with error CUPTI_ERROR_NOT_INITIALIZED\n",
      "  1/844 [..............................] - ETA: 0s - loss: 2.5958 - categorical_accuracy: 0.1719 - categorical_crossentropy: 2.59582020-07-20 12:08:22.737142: E tensorflow/core/profiler/internal/gpu/cupti_tracer.cc:1430] function cupti_interface_->EnableCallback( 0 , subscriber_, CUPTI_CB_DOMAIN_DRIVER_API, cbid)failed with error CUPTI_ERROR_NOT_INITIALIZED\n",
      "2020-07-20 12:08:22.737509: I tensorflow/core/profiler/internal/gpu/device_tracer.cc:216]  GpuTracer has collected 0 callback api events and 0 activity events.\n",
      "2020-07-20 12:08:22.738718: I tensorflow/core/profiler/rpc/client/save_profile.cc:168] Creating directory: ./output/logs/train/plugins/profile/2020_07_20_12_08_22\n",
      "2020-07-20 12:08:22.739252: I tensorflow/core/profiler/rpc/client/save_profile.cc:174] Dumped gzipped tool data for trace.json.gz to ./output/logs/train/plugins/profile/2020_07_20_12_08_22/rio-instances-1.trace.json.gz\n",
      "2020-07-20 12:08:22.739595: I tensorflow/core/profiler/utils/event_span.cc:288] Generation of step-events took 0.001 ms\n",
      "\n",
      "2020-07-20 12:08:22.740355: I tensorflow/python/profiler/internal/profiler_wrapper.cc:87] Creating directory: ./output/logs/train/plugins/profile/2020_07_20_12_08_22Dumped tool data for overview_page.pb to ./output/logs/train/plugins/profile/2020_07_20_12_08_22/rio-instances-1.overview_page.pb\n",
      "Dumped tool data for input_pipeline.pb to ./output/logs/train/plugins/profile/2020_07_20_12_08_22/rio-instances-1.input_pipeline.pb\n",
      "Dumped tool data for tensorflow_stats.pb to ./output/logs/train/plugins/profile/2020_07_20_12_08_22/rio-instances-1.tensorflow_stats.pb\n",
      "Dumped tool data for kernel_stats.pb to ./output/logs/train/plugins/profile/2020_07_20_12_08_22/rio-instances-1.kernel_stats.pb\n",
      "\n",
      "844/844 [==============================] - 4s 5ms/step - loss: 0.5584 - categorical_accuracy: 0.7976 - categorical_crossentropy: 0.5584 - val_loss: 0.3612 - val_categorical_accuracy: 0.8627 - val_categorical_crossentropy: 0.3612\n",
      "Epoch 2/10000\n",
      "844/844 [==============================] - 4s 5ms/step - loss: 0.4183 - categorical_accuracy: 0.8479 - categorical_crossentropy: 0.4183 - val_loss: 0.3182 - val_categorical_accuracy: 0.8760 - val_categorical_crossentropy: 0.3182\n",
      "Epoch 3/10000\n",
      "844/844 [==============================] - 4s 5ms/step - loss: 0.3761 - categorical_accuracy: 0.8632 - categorical_crossentropy: 0.3761 - val_loss: 0.3157 - val_categorical_accuracy: 0.8818 - val_categorical_crossentropy: 0.3157\n",
      "Epoch 4/10000\n",
      "844/844 [==============================] - 4s 5ms/step - loss: 0.3585 - categorical_accuracy: 0.8687 - categorical_crossentropy: 0.3585 - val_loss: 0.3105 - val_categorical_accuracy: 0.8848 - val_categorical_crossentropy: 0.3105\n",
      "Epoch 5/10000\n",
      "844/844 [==============================] - 4s 5ms/step - loss: 0.3388 - categorical_accuracy: 0.8757 - categorical_crossentropy: 0.3388 - val_loss: 0.2987 - val_categorical_accuracy: 0.8882 - val_categorical_crossentropy: 0.2987\n",
      "Epoch 6/10000\n",
      "844/844 [==============================] - 4s 5ms/step - loss: 0.3266 - categorical_accuracy: 0.8806 - categorical_crossentropy: 0.3266 - val_loss: 0.2665 - val_categorical_accuracy: 0.9010 - val_categorical_crossentropy: 0.2665\n",
      "Epoch 7/10000\n",
      "844/844 [==============================] - 4s 5ms/step - loss: 0.3265 - categorical_accuracy: 0.8806 - categorical_crossentropy: 0.3265 - val_loss: 0.2790 - val_categorical_accuracy: 0.8947 - val_categorical_crossentropy: 0.2790\n",
      "Epoch 8/10000\n",
      "844/844 [==============================] - 4s 5ms/step - loss: 0.3138 - categorical_accuracy: 0.8842 - categorical_crossentropy: 0.3138 - val_loss: 0.2666 - val_categorical_accuracy: 0.8995 - val_categorical_crossentropy: 0.2666\n",
      "2020-07-20 12:08:54.245049: W tensorflow/python/util/util.cc:329] Sets are not currently considered sequences, but this may change in the future, so consider avoiding using them.\n",
      "WARNING:tensorflow:From /opt/conda/lib/python3.7/site-packages/tensorflow/python/ops/resource_variable_ops.py:1817: calling BaseResourceVariable.__init__ (from tensorflow.python.ops.resource_variable_ops) with constraint is deprecated and will be removed in a future version.\n",
      "Instructions for updating:\n",
      "If using Keras pass *_constraint arguments to layers.\n"
     ]
    }
   ],
   "source": [
    "!python3 -m mfashion_keras.task --output_dir=./output --model=cnn --batch_size=64 --batch_norm"
   ]
  },
  {
   "cell_type": "markdown",
   "metadata": {},
   "source": [
    "## gcloud ai-platform(ml-engine)での実行\n",
    "\n",
    "上記のコマンドをgcloudのai-platform経由で実行しましょう。  "
   ]
  },
  {
   "cell_type": "code",
   "execution_count": 5,
   "metadata": {},
   "outputs": [
    {
     "name": "stdout",
     "output_type": "stream",
     "text": [
      "gs://mixi-ml-handson-2020/kojo/mfashion/trained_cnn\n",
      "mfashion_cnn_kojo_20200720_122020\n",
      "jobId: mfashion_cnn_kojo_20200720_122020\n",
      "state: QUEUED\n"
     ]
    },
    {
     "name": "stderr",
     "output_type": "stream",
     "text": [
      "WARNING: The `gcloud ml-engine` commands have been renamed and will soon be removed. Please use `gcloud ai-platform` instead.\n",
      "Job [mfashion_cnn_kojo_20200720_122020] submitted successfully.\n",
      "Your job is still active. You may view the status of your job with the command\n",
      "\n",
      "  $ gcloud ai-platform jobs describe mfashion_cnn_kojo_20200720_122020\n",
      "\n",
      "or continue streaming the logs with the command\n",
      "\n",
      "  $ gcloud ai-platform jobs stream-logs mfashion_cnn_kojo_20200720_122020\n"
     ]
    }
   ],
   "source": [
    "%%bash\n",
    "\n",
    "## 書き換える\n",
    "USER=kojo\n",
    "\n",
    "## 書き換えない\n",
    "BUCKET=mixi-ml-handson-2021\n",
    "REGION=us-east1\n",
    "TFVERSION=2.1\n",
    "PYVERSION=3.7\n",
    "\n",
    "## 必要に応じて書き換える\n",
    "MODEL_TYPE=cnn\n",
    "LEARNING_RATE=0.01\n",
    "BATCH_SIZE=64\n",
    "TRAIN_STEPS=1000\n",
    "\n",
    "OUTPUT_DIR=gs://${BUCKET}/${USER}/mfashion/trained_${MODEL_TYPE}\n",
    "DATE=`date +%Y%m%d_%H%M%S`\n",
    "JOB_ID=mfashion_${MODEL_TYPE}_${USER}_${DATE}\n",
    "echo ${OUTPUT_DIR}\n",
    "echo ${JOB_ID}\n",
    "\n",
    "gcloud ai-platform jobs submit training ${JOB_ID} \\\n",
    "  --region=${REGION} \\\n",
    "  --module-name=mfashion_keras.task \\\n",
    "  --package-path=./mfashion_keras \\\n",
    "  --job-dir=${OUTPUT_DIR} \\\n",
    "  --staging-bucket=gs://${BUCKET} \\\n",
    "  --scale-tier=BASIC_GPU \\\n",
    "  --runtime-version=${TFVERSION} \\\n",
    "  --python-version=${PYVERSION} \\\n",
    "  -- \\\n",
    "  --output_dir=${OUTPUT_DIR} \\\n",
    "  --train_steps=${TRAIN_STEPS} \\\n",
    "  --model=${MODEL_TYPE} \\\n",
    "  --learning_rate=${LEARNING_RATE} \\\n",
    "  --batch_size=${BATCH_SIZE}"
   ]
  },
  {
   "cell_type": "markdown",
   "metadata": {},
   "source": [
    "これでjobを作成し、自分のマシン以外のリソースを使って実行できました。  \n",
    "上記のコマンドはjupyter上で実行する必要もないため、もちろんコマンドラインから実行しても同様に実行が可能です。\n",
    "\n",
    "これで自分のマシンの計算リソースの制約にとらわれることなくjobが実行可能になりました。  \n",
    "パラメータを変えながら大量にjobを並列実行すれば最適なパラメータチューニングをすることが可能になります。"
   ]
  },
  {
   "cell_type": "markdown",
   "metadata": {},
   "source": [
    "## HyperParameterSpecを使ったパラメータチューニング\n",
    "　\n",
    "各クラウドで似たような仕組みはありますが、今回はgcloudのパラメータチューニングを使用してチューニングします。\n",
    "\n",
    "最適値を探すのに、`Manual`, `Grid Search`, `Random Search`, `Baysean Search`の4つの探索方法が用意されています。  \n",
    "[詳しくはここ](https://cloud.google.com/ai-platform/training/docs/reference/rest/v1/projects.jobs#HyperparameterSpec)\n",
    "\n",
    "以下はGrid Searchを用いた例です。 \n",
    "今回はlearning_rateを最初値0.001から最大値0.3までの間を探索してみます"
   ]
  },
  {
   "cell_type": "code",
   "execution_count": 6,
   "metadata": {},
   "outputs": [
    {
     "name": "stdout",
     "output_type": "stream",
     "text": [
      "Writing hyperparam.yaml\n"
     ]
    }
   ],
   "source": [
    "%%writefile hyperparam.yaml\n",
    "trainingInput:\n",
    "  scaleTier: BASIC\n",
    "  hyperparameters:\n",
    "    goal: MINIMIZE\n",
    "    maxTrials: 6\n",
    "    maxParallelTrials: 6\n",
    "    hyperparameterMetricTag: ccentropy\n",
    "    enableTrialEarlyStopping: True\n",
    "    algorithm: GRID_SEARCH\n",
    "    params:\n",
    "    - parameterName: learning_rate\n",
    "      type: DISCRETE\n",
    "      discreteValues: [0.001, 0.005, 0.01, 0.05, 0.1, 0.3]"
   ]
  },
  {
   "cell_type": "code",
   "execution_count": 8,
   "metadata": {},
   "outputs": [
    {
     "name": "stdout",
     "output_type": "stream",
     "text": [
      "gs://mixi-ml-handson-2020/kojo/mfashion/trained_cnn\n",
      "mfashion_cnn_kojo_20200720_122158\n",
      "jobId: mfashion_cnn_kojo_20200720_122158\n",
      "state: QUEUED\n"
     ]
    },
    {
     "name": "stderr",
     "output_type": "stream",
     "text": [
      "WARNING: The `gcloud ml-engine` commands have been renamed and will soon be removed. Please use `gcloud ai-platform` instead.\n",
      "Job [mfashion_cnn_kojo_20200720_122158] submitted successfully.\n",
      "Your job is still active. You may view the status of your job with the command\n",
      "\n",
      "  $ gcloud ai-platform jobs describe mfashion_cnn_kojo_20200720_122158\n",
      "\n",
      "or continue streaming the logs with the command\n",
      "\n",
      "  $ gcloud ai-platform jobs stream-logs mfashion_cnn_kojo_20200720_122158\n"
     ]
    }
   ],
   "source": [
    "%%bash\n",
    "\n",
    "## 書き換える\n",
    "USER=<username>\n",
    "\n",
    "## 書き換えない\n",
    "BUCKET=mixi-ml-handson-2021\n",
    "REGION=asia-northeast1\n",
    "TFVERSION=2.1\n",
    "PYVERSION=3.7\n",
    "\n",
    "## 必要に応じて書き換える\n",
    "MODEL_TYPE=cnn\n",
    "LEARNING_RATE=0.01\n",
    "BATCH_SIZE=64\n",
    "TRAIN_STEPS=1000\n",
    "\n",
    "OUTPUT_DIR=gs://${BUCKET}/${USER}/mfashion/trained_${MODEL_TYPE}\n",
    "DATE=`date +%Y%m%d_%H%M%S`\n",
    "JOB_ID=mfashion_${MODEL_TYPE}_${USER}_${DATE}\n",
    "echo ${OUTPUT_DIR}\n",
    "echo ${JOB_ID}\n",
    "\n",
    "gcloud ai-platform jobs submit training ${JOB_ID} \\\n",
    "  --region=${REGION} \\\n",
    "  --module-name=mfashion_keras.task \\\n",
    "  --package-path=./mfashion_keras \\\n",
    "  --job-dir=${OUTPUT_DIR} \\\n",
    "  --config=hyperparam.yaml \\\n",
    "  --staging-bucket=gs://${BUCKET} \\\n",
    "  --runtime-version=${TFVERSION} \\\n",
    "  --python-version=${PYVERSION} \\\n",
    "  -- \\\n",
    "  --output_dir=${OUTPUT_DIR} \\\n",
    "  --train_steps=${TRAIN_STEPS} \\\n",
    "  --model=${MODEL_TYPE} \\\n",
    "  --batch_size=${BATCH_SIZE}"
   ]
  },
  {
   "cell_type": "markdown",
   "metadata": {},
   "source": [
    "今回は`ccentropy`という指標を使いましたが、これを変更するにはどうすればいいのでしょうか？確認してみてください。"
   ]
  },
  {
   "cell_type": "code",
   "execution_count": null,
   "metadata": {},
   "outputs": [],
   "source": []
  }
 ],
 "metadata": {
  "environment": {
   "name": "tf2-2-2-gpu.2-2.m50",
   "type": "gcloud",
   "uri": "gcr.io/deeplearning-platform-release/tf2-2-2-gpu.2-2:m50"
  },
  "kernelspec": {
   "display_name": "Python 3",
   "language": "python",
   "name": "python3"
  },
  "language_info": {
   "codemirror_mode": {
    "name": "ipython",
    "version": 3
   },
   "file_extension": ".py",
   "mimetype": "text/x-python",
   "name": "python",
   "nbconvert_exporter": "python",
   "pygments_lexer": "ipython3",
   "version": "3.7.6"
  }
 },
 "nbformat": 4,
 "nbformat_minor": 4
}