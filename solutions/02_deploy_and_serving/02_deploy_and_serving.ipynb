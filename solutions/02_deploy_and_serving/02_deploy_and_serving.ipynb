{
 "cells": [
  {
   "cell_type": "markdown",
   "metadata": {},
   "source": [
    "# 作成したモデルのdeployとserving\n",
    "\n",
    "０１_image_classificationで作ったモデルを今度はAPIとして使用できるようにします。\n",
    "\n",
    "google ai-platformでは作成したmodelからendpointの作成を行う機能があるため、それを使ってみます。  \n",
    "endpointの作成は2つの処理にわかれていて、modelの作成とversionの作成をおこなう必要があります。"
   ]
  },
  {
   "cell_type": "code",
   "execution_count": null,
   "metadata": {},
   "outputs": [],
   "source": [
    "%%bash\n",
    "\n",
    "USER=kojo\n",
    "BUCKET=mixi-ml-handson-2020\n",
    "VERSION=001\n",
    "\n",
    "gcloud ai-platform models create mfashion_${USER} --regions asia-northeast1\n",
    "gcloud ai-platform versions create mfashion_${USER}_${VERSION} \\\n",
    "  --model mfashion_${USER} \\\n",
    "  --origin gs://${BUCKET}/${USER}/${VERSION} \\\n",
    "  --runtime-version 2.1 \\\n",
    "  --python-version 3.7"
   ]
  },
  {
   "cell_type": "markdown",
   "metadata": {},
   "source": [
    "\n",
    "上記コードの実行には数分の時間がかかります。\n",
    "\n",
    "versionの作成が完了したら、このendpointにリクエストを投げてみましょう\n",
    "\n",
    "リクエストは同一のproject内からを想定し、google-api-clientを使用します。"
   ]
  },
  {
   "cell_type": "code",
   "execution_count": null,
   "metadata": {},
   "outputs": [],
   "source": [
    "!pip install google-api-python-client "
   ]
  },
  {
   "cell_type": "code",
   "execution_count": 1,
   "metadata": {},
   "outputs": [],
   "source": [
    "import googleapiclient.discovery\n",
    "\n",
    "def predict_json(project, model, instances, version=None):\n",
    "\n",
    "    service = googleapiclient.discovery.build('ml', 'v1')\n",
    "    name = 'projects/{}/models/{}'.format(project, model)\n",
    "\n",
    "    if version is not None:\n",
    "        name += '/versions/{}'.format(version)\n",
    "\n",
    "    response = service.projects().predict(\n",
    "        name=name,\n",
    "        body={'instances': instances}\n",
    "    ).execute()\n",
    "\n",
    "    if 'error' in response:\n",
    "        raise RuntimeError(response['error'])\n",
    "\n",
    "    return response['predictions']"
   ]
  },
  {
   "cell_type": "code",
   "execution_count": 3,
   "metadata": {},
   "outputs": [
    {
     "data": {
      "text/plain": [
       "[{'output_1': [1.4490038045166442e-15,\n",
       "   9.436579660145386e-17,\n",
       "   1.3279680056066303e-14,\n",
       "   1.3488622283870256e-18,\n",
       "   4.852333058673482e-16,\n",
       "   2.014125310978443e-09,\n",
       "   3.877469075393115e-15,\n",
       "   1.462386212125466e-08,\n",
       "   2.452447579409878e-16,\n",
       "   1.0]},\n",
       " {'output_1': [1.315963893411265e-09,\n",
       "   3.667789973592804e-18,\n",
       "   0.9999997615814209,\n",
       "   3.8667758773570926e-14,\n",
       "   1.6533456914658018e-07,\n",
       "   2.5451908008556243e-19,\n",
       "   1.4484761834410165e-07,\n",
       "   7.995907766836618e-22,\n",
       "   2.0016854927057404e-13,\n",
       "   7.357056166676294e-20]},\n",
       " {'output_1': [1.0093023015663241e-13,\n",
       "   1.0,\n",
       "   7.563521145503171e-18,\n",
       "   5.850782504963556e-14,\n",
       "   1.190473043630397e-15,\n",
       "   8.223065024923472e-19,\n",
       "   3.110155226892716e-14,\n",
       "   1.8334555212465892e-20,\n",
       "   3.4673148112066975e-17,\n",
       "   1.5001764048055636e-22]},\n",
       " {'output_1': [1.512368355549576e-12,\n",
       "   1.0,\n",
       "   3.634559084361895e-14,\n",
       "   3.2286942563963805e-10,\n",
       "   2.575585578146189e-12,\n",
       "   5.374304618682973e-15,\n",
       "   2.0595088134900408e-11,\n",
       "   2.9912952650417855e-16,\n",
       "   1.1194461292185834e-13,\n",
       "   4.301797443335098e-17]},\n",
       " {'output_1': [0.0008494705543853343,\n",
       "   6.858261875075655e-11,\n",
       "   4.166655344306491e-05,\n",
       "   1.7988031686400063e-06,\n",
       "   0.0009708736324682832,\n",
       "   1.0935411430545994e-11,\n",
       "   0.9981352090835571,\n",
       "   2.0379599049991093e-11,\n",
       "   9.931964086717926e-07,\n",
       "   2.7517536860255376e-11]},\n",
       " {'output_1': [1.0704765199265331e-11,\n",
       "   1.0,\n",
       "   4.927980427698285e-14,\n",
       "   2.2684260719829652e-11,\n",
       "   8.476031833869191e-13,\n",
       "   3.230797536647083e-16,\n",
       "   1.3825668040978734e-12,\n",
       "   1.3510464194739871e-17,\n",
       "   2.5339966670118175e-12,\n",
       "   6.616116241565308e-20]},\n",
       " {'output_1': [3.2810230976565435e-08,\n",
       "   1.2448977959600427e-10,\n",
       "   0.0015635105082765222,\n",
       "   1.294976015309146e-09,\n",
       "   0.9976847171783447,\n",
       "   5.802867545203275e-14,\n",
       "   0.0007517292397096753,\n",
       "   2.1598607471485284e-15,\n",
       "   2.2125606236045314e-08,\n",
       "   2.504491026459471e-13]},\n",
       " {'output_1': [6.128537279437296e-06,\n",
       "   1.2355793055363051e-09,\n",
       "   4.458624607650563e-05,\n",
       "   2.074698386422824e-06,\n",
       "   0.05167229846119881,\n",
       "   1.761592954840907e-10,\n",
       "   0.9482741951942444,\n",
       "   5.501110092627493e-13,\n",
       "   7.815695539648004e-07,\n",
       "   8.217548169708877e-12]}]"
      ]
     },
     "execution_count": 3,
     "metadata": {},
     "output_type": "execute_result"
    }
   ],
   "source": [
    "from tensorflow.keras.datasets import fashion_mnist\n",
    "import numpy as np\n",
    "\n",
    "(X_train_orig, y_train_orig), (X_test_orig, y_test_orig) = fashion_mnist.load_data()\n",
    "requests=X_test_orig[0:8]\n",
    "requests = np.expand_dims(requests, -1)\n",
    "requests = requests / 255.0\n",
    "\n",
    "predict_json(\"hr-mixi\",\"mfashion_kojo\", requests.tolist())\n"
   ]
  },
  {
   "cell_type": "code",
   "execution_count": null,
   "metadata": {},
   "outputs": [],
   "source": []
  }
 ],
 "metadata": {
  "environment": {
   "name": "tf2-2-2-gpu.2-2.m50",
   "type": "gcloud",
   "uri": "gcr.io/deeplearning-platform-release/tf2-2-2-gpu.2-2:m50"
  },
  "kernelspec": {
   "display_name": "Python 3",
   "language": "python",
   "name": "python3"
  },
  "language_info": {
   "codemirror_mode": {
    "name": "ipython",
    "version": 3
   },
   "file_extension": ".py",
   "mimetype": "text/x-python",
   "name": "python",
   "nbconvert_exporter": "python",
   "pygments_lexer": "ipython3",
   "version": "3.7.6"
  }
 },
 "nbformat": 4,
 "nbformat_minor": 4
}
