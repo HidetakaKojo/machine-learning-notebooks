{
 "cells": [
  {
   "cell_type": "markdown",
   "metadata": {},
   "source": [
    "# 作成したモデルのdeployとserving\n",
    "\n",
    "０１_image_classificationで作ったモデルを今度はAPIとして使用できるようにします。\n",
    "\n",
    "google ai-platformでは作成したmodelからendpointの作成を行う機能があるため、それを使ってみます。  \n",
    "endpointの作成は2つの処理にわかれていて、modelの作成とversionの作成をおこなう必要があります。\n"
   ]
  },
  {
   "cell_type": "code",
   "execution_count": null,
   "metadata": {},
   "outputs": [],
   "source": [
    "%%bash\n",
    "\n",
    "USER=username # 自分の名前\n",
    "BUCKET=mixi-ml-handson-2021\n",
    "VERSION=001\n",
    "\n",
    "gcloud ai-platform models create mfashion_${USER} --regions asia-northeast1\n",
    "gcloud ai-platform versions create mfashion_${USER}_${VERSION} \\\n",
    "  --model mfashion_${USER} \\\n",
    "  --origin gs://${BUCKET}/${USER}/${VERSION} \\\n",
    "  --runtime-version 2.1 \\\n",
    "  --python-version 3.7"
   ]
  },
  {
   "cell_type": "markdown",
   "metadata": {},
   "source": [
    "上記コードの実行には数分の時間がかかります。\n",
    "\n",
    "versionの作成が完了したら、このendpointにリクエストを投げてみましょう\n",
    "\n",
    "リクエストは同一のproject内からを想定し、google-api-clientを使用します。"
   ]
  },
  {
   "cell_type": "code",
   "execution_count": null,
   "metadata": {},
   "outputs": [],
   "source": [
    "!pip install google-api-python-client "
   ]
  },
  {
   "cell_type": "code",
   "execution_count": null,
   "metadata": {},
   "outputs": [],
   "source": [
    "import googleapiclient.discovery\n",
    "\n",
    "def predict_json(project, model, instances, version=None):\n",
    "\n",
    "    service = googleapiclient.discovery.build('ml', 'v1')\n",
    "    name = 'projects/{}/models/{}'.format(project, model)\n",
    "\n",
    "    if version is not None:\n",
    "        name += '/versions/{}'.format(version)\n",
    "\n",
    "    response = service.projects().predict(\n",
    "        name=name,\n",
    "        body={'instances': instances}\n",
    "    ).execute()\n",
    "\n",
    "    if 'error' in response:\n",
    "        raise RuntimeError(response['error'])\n",
    "\n",
    "    return response['predictions']"
   ]
  },
  {
   "cell_type": "code",
   "execution_count": null,
   "metadata": {},
   "outputs": [],
   "source": [
    "from tensorflow.keras.datasets import fashion_mnist\n",
    "import numpy as np\n",
    "\n",
    "(X_train_orig, y_train_orig), (X_test_orig, y_test_orig) = fashion_mnist.load_data()\n",
    "requests=X_test_orig[0:8]\n",
    "\n",
    "## <todo> requestsをresposeが返せる形に変換してください。\n",
    "## hint: 01で行った前処理と同じことをする必要があります。\n",
    "requests= ___\n",
    "requests= ___\n",
    "\n",
    "predict_json(___, ___, ___)"
   ]
  },
  {
   "cell_type": "code",
   "execution_count": null,
   "metadata": {},
   "outputs": [],
   "source": []
  }
 ],
 "metadata": {
  "environment": {
   "name": "tf2-2-2-gpu.2-2.m50",
   "type": "gcloud",
   "uri": "gcr.io/deeplearning-platform-release/tf2-2-2-gpu.2-2:m50"
  },
  "kernelspec": {
   "display_name": "Python 3",
   "language": "python",
   "name": "python3"
  },
  "language_info": {
   "codemirror_mode": {
    "name": "ipython",
    "version": 3
   },
   "file_extension": ".py",
   "mimetype": "text/x-python",
   "name": "python",
   "nbconvert_exporter": "python",
   "pygments_lexer": "ipython3",
   "version": "3.7.6"
  }
 },
 "nbformat": 4,
 "nbformat_minor": 4
}