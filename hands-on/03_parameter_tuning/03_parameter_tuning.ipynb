{
 "cells": [
  {
   "cell_type": "markdown",
   "metadata": {},
   "source": [
    "## ハイパーパラメータチューニング\n",
    "\n",
    "ハイパーパラメータチューニングは学習を何度も繰り返す必要があり、非常に時間がかかる作業になります。  \n",
    "仮に1回の学習ループが3日かかるとしたら、パラメータを数回変えて試してみるだけで非常に時間がかかってしまいます。\n",
    "\n",
    "今回はその作業をお金の力で解決してしまう方法を学習します。\n",
    "\n",
    "## コードのモジュール化\n",
    "\n",
    "まず、コードを何度も実行するためにはjupyter上で処理するのはあまり向かないため、scriptに落とし込みます。  \n",
    "コードのコアの部分を移動したコードが`mfashion_keras/model.py`にあります。  \n",
    "そして、jobのkickerとなるコードを`mfashion_keras/task.py`に記載してあります。  \n",
    "試しに実行してみましょう"
   ]
  },
  {
   "cell_type": "code",
   "execution_count": null,
   "metadata": {},
   "outputs": [],
   "source": [
    "!python3 -m mfashion_keras.task --output_dir=./output --model=cnn --batch_size=64 --batch_norm"
   ]
  },
  {
   "cell_type": "markdown",
   "metadata": {},
   "source": [
    "## gcloud ai-platform(ml-engine)での実行\n",
    "\n",
    "上記のコマンドをgcloudのai-platform経由で実行しましょう。  "
   ]
  },
  {
   "cell_type": "code",
   "execution_count": null,
   "metadata": {},
   "outputs": [],
   "source": [
    "%%bash\n",
    "\n",
    "## 書き換える\n",
    "USER=kojo\n",
    "\n",
    "## 書き換えない\n",
    "BUCKET=mixi-ml-handson-2021\n",
    "REGION=us-east1\n",
    "TFVERSION=2.1\n",
    "PYVERSION=3.7\n",
    "\n",
    "## 必要に応じて書き換える\n",
    "MODEL_TYPE=cnn\n",
    "LEARNING_RATE=0.01\n",
    "BATCH_SIZE=64\n",
    "TRAIN_STEPS=1000\n",
    "\n",
    "OUTPUT_DIR=gs://${BUCKET}/${USER}/mfashion/trained_${MODEL_TYPE}\n",
    "DATE=`date +%Y%m%d_%H%M%S`\n",
    "JOB_ID=mfashion_${MODEL_TYPE}_${USER}_${DATE}\n",
    "echo ${OUTPUT_DIR}\n",
    "echo ${JOB_ID}\n",
    "\n",
    "gcloud ai-platform jobs submit training ${JOB_ID} \\\n",
    "  --region=${REGION} \\\n",
    "  --module-name=mfashion_keras.task \\\n",
    "  --package-path=./mfashion_keras \\\n",
    "  --job-dir=${OUTPUT_DIR} \\\n",
    "  --staging-bucket=gs://${BUCKET} \\\n",
    "  --scale-tier=BASIC_GPU \\\n",
    "  --runtime-version=${TFVERSION} \\\n",
    "  --python-version=${PYVERSION} \\\n",
    "  -- \\\n",
    "  --output_dir=${OUTPUT_DIR} \\\n",
    "  --train_steps=${TRAIN_STEPS} \\\n",
    "  --model=${MODEL_TYPE} \\\n",
    "  --learning_rate=${LEARNING_RATE} \\\n",
    "  --batch_size=${BATCH_SIZE}"
   ]
  },
  {
   "cell_type": "markdown",
   "metadata": {},
   "source": [
    "これでjobを作成し、自分のマシン以外のリソースを使って実行できました。  \n",
    "上記のコマンドはjupyter上で実行する必要もないため、もちろんコマンドラインから実行しても同様に実行が可能です。\n",
    "\n",
    "これで自分のマシンの計算リソースの制約にとらわれることなくjobが実行可能になりました。  \n",
    "パラメータを変えながら大量にjobを並列実行すれば最適なパラメータチューニングをすることが可能になります。"
   ]
  },
  {
   "cell_type": "markdown",
   "metadata": {},
   "source": [
    "## HyperParameterSpecを使ったパラメータチューニング\n",
    "　\n",
    "各クラウドで似たような仕組みはありますが、今回はgcloudのパラメータチューニングを使用してチューニングします。\n",
    "\n",
    "最適値を探すのに、`Manual`, `Grid Search`, `Random Search`, `Baysean Search`の4つの探索方法が用意されています。  \n",
    "[詳しくはここ](https://cloud.google.com/ai-platform/training/docs/reference/rest/v1/projects.jobs#HyperparameterSpec)\n",
    "\n",
    "以下はGrid Searchを用いた例です。 \n",
    "今回はlearning_rateを最初値0.001から最大値0.3までの間を探索してみます"
   ]
  },
  {
   "cell_type": "code",
   "execution_count": null,
   "metadata": {},
   "outputs": [],
   "source": [
    "%%writefile hyperparam.yaml\n",
    "trainingInput:\n",
    "  scaleTier: BASIC\n",
    "  hyperparameters:\n",
    "    goal: MINIMIZE\n",
    "    maxTrials: 6\n",
    "    maxParallelTrials: 6\n",
    "    hyperparameterMetricTag: ccentropy\n",
    "    enableTrialEarlyStopping: True\n",
    "    algorithm: GRID_SEARCH\n",
    "    params:\n",
    "    - parameterName: learning_rate\n",
    "      type: DISCRETE\n",
    "      discreteValues: [0.001, 0.005, 0.01, 0.05, 0.1, 0.3]"
   ]
  },
  {
   "cell_type": "code",
   "execution_count": null,
   "metadata": {},
   "outputs": [],
   "source": [
    "%%bash\n",
    "\n",
    "## 書き換える\n",
    "USER=<username>\n",
    "\n",
    "## 書き換えない\n",
    "BUCKET=mixi-ml-handson-2021\n",
    "REGION=asia-northeast1\n",
    "TFVERSION=2.1\n",
    "PYVERSION=3.7\n",
    "\n",
    "## 必要に応じて書き換える\n",
    "MODEL_TYPE=cnn\n",
    "LEARNING_RATE=0.01\n",
    "BATCH_SIZE=64\n",
    "TRAIN_STEPS=1000\n",
    "\n",
    "OUTPUT_DIR=gs://${BUCKET}/${USER}/mfashion/trained_${MODEL_TYPE}\n",
    "DATE=`date +%Y%m%d_%H%M%S`\n",
    "JOB_ID=mfashion_${MODEL_TYPE}_${USER}_${DATE}\n",
    "echo ${OUTPUT_DIR}\n",
    "echo ${JOB_ID}\n",
    "\n",
    "gcloud ai-platform jobs submit training ${JOB_ID} \\\n",
    "  --region=${REGION} \\\n",
    "  --module-name=mfashion_keras.task \\\n",
    "  --package-path=./mfashion_keras \\\n",
    "  --job-dir=${OUTPUT_DIR} \\\n",
    "  --config=hyperparam.yaml \\\n",
    "  --staging-bucket=gs://${BUCKET} \\\n",
    "  --runtime-version=${TFVERSION} \\\n",
    "  --python-version=${PYVERSION} \\\n",
    "  -- \\\n",
    "  --output_dir=${OUTPUT_DIR} \\\n",
    "  --train_steps=${TRAIN_STEPS} \\\n",
    "  --model=${MODEL_TYPE} \\\n",
    "  --batch_size=${BATCH_SIZE}"
   ]
  },
  {
   "cell_type": "markdown",
   "metadata": {},
   "source": [
    "今回は`ccentropy`という指標を使いましたが、これを変更するにはどうすればいいのでしょうか？確認してみてください。"
   ]
  },
  {
   "cell_type": "code",
   "execution_count": null,
   "metadata": {},
   "outputs": [],
   "source": []
  }
 ],
 "metadata": {
  "environment": {
   "name": "tf2-2-2-gpu.2-2.m50",
   "type": "gcloud",
   "uri": "gcr.io/deeplearning-platform-release/tf2-2-2-gpu.2-2:m50"
  },
  "kernelspec": {
   "display_name": "Python 3",
   "language": "python",
   "name": "python3"
  },
  "language_info": {
   "codemirror_mode": {
    "name": "ipython",
    "version": 3
   },
   "file_extension": ".py",
   "mimetype": "text/x-python",
   "name": "python",
   "nbconvert_exporter": "python",
   "pygments_lexer": "ipython3",
   "version": "3.7.6"
  }
 },
 "nbformat": 4,
 "nbformat_minor": 4
}